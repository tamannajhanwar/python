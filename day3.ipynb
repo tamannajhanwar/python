{
 "cells": [
  {
   "cell_type": "code",
   "execution_count": 1,
   "id": "2b64dbb7",
   "metadata": {},
   "outputs": [],
   "source": [
    "import numpy as np"
   ]
  },
  {
   "cell_type": "code",
   "execution_count": 2,
   "id": "dccd4457",
   "metadata": {},
   "outputs": [
    {
     "name": "stdout",
     "output_type": "stream",
     "text": [
      "[25 30 18 35 22 40 17]\n"
     ]
    }
   ],
   "source": [
    "ages=np.array([25,30,18,35,22,40,17])\n",
    "print(ages)"
   ]
  },
  {
   "cell_type": "code",
   "execution_count": 3,
   "id": "5ceffd0a",
   "metadata": {},
   "outputs": [
    {
     "name": "stdout",
     "output_type": "stream",
     "text": [
      "[[ True  True  True  True  True  True False]]\n"
     ]
    }
   ],
   "source": [
    "adults=np.array([ages>=18])\n",
    "print(adults)"
   ]
  },
  {
   "cell_type": "code",
   "execution_count": 4,
   "id": "b4a8c029",
   "metadata": {},
   "outputs": [
    {
     "name": "stdout",
     "output_type": "stream",
     "text": [
      "[25 30 18 35 22 40 --]\n"
     ]
    }
   ],
   "source": [
    "adults=np.ma.array(ages,mask=[ages<18])\n",
    "print(adults)"
   ]
  },
  {
   "cell_type": "code",
   "execution_count": 12,
   "id": "a708cd0f",
   "metadata": {},
   "outputs": [
    {
     "name": "stdout",
     "output_type": "stream",
     "text": [
      "[ True  True False False  True False False]\n"
     ]
    }
   ],
   "source": [
    "young_adults=np.array((ages>20) & (ages<35))\n",
    "print(young_adults)"
   ]
  },
  {
   "cell_type": "code",
   "execution_count": 13,
   "id": "cfd52b58",
   "metadata": {},
   "outputs": [
    {
     "name": "stdout",
     "output_type": "stream",
     "text": [
      "['alice' 'bob' 'charlie' 'david' 'eve']\n"
     ]
    }
   ],
   "source": [
    "name=np.array(['alice','bob','charlie','david','eve'])\n",
    "print(name)"
   ]
  },
  {
   "cell_type": "code",
   "execution_count": 28,
   "id": "53b6ddaf",
   "metadata": {},
   "outputs": [
    {
     "name": "stdout",
     "output_type": "stream",
     "text": [
      "['alice' 'eve']\n"
     ]
    }
   ],
   "source": [
    "print(name[(np.char.startswith(name,'a'))|(np.char.startswith(name,'e'))])"
   ]
  },
  {
   "cell_type": "code",
   "execution_count": 35,
   "id": "02c9939d",
   "metadata": {},
   "outputs": [
    {
     "name": "stdout",
     "output_type": "stream",
     "text": [
      "[28 32 25 35 30 22 38]\n"
     ]
    }
   ],
   "source": [
    "tempratures=np.array([28,32,25,35,30,22,38])\n",
    "print(tempratures)"
   ]
  },
  {
   "cell_type": "code",
   "execution_count": 36,
   "id": "d7904ac9",
   "metadata": {},
   "outputs": [
    {
     "name": "stdout",
     "output_type": "stream",
     "text": [
      "[-- 32 -- 35 30 -- 38]\n"
     ]
    }
   ],
   "source": [
    "is_hot=np.ma.array(tempratures,mask=[tempratures<30])\n",
    "print(is_hot)"
   ]
  },
  {
   "cell_type": "code",
   "execution_count": 39,
   "id": "91b39191",
   "metadata": {},
   "outputs": [
    {
     "name": "stdout",
     "output_type": "stream",
     "text": [
      "[False  True False  True  True False  True]\n"
     ]
    }
   ],
   "source": [
    "is_hot=np.array(tempratures>=30)\n",
    "print(is_hot)"
   ]
  },
  {
   "cell_type": "code",
   "execution_count": 42,
   "id": "45304a2c",
   "metadata": {},
   "outputs": [
    {
     "name": "stdout",
     "output_type": "stream",
     "text": [
      "[28 31 25 31 30 22 31]\n"
     ]
    }
   ],
   "source": [
    "tempratures[tempratures>30]=31\n",
    "print(tempratures)"
   ]
  },
  {
   "cell_type": "code",
   "execution_count": 43,
   "id": "9446808f",
   "metadata": {},
   "outputs": [
    {
     "name": "stdout",
     "output_type": "stream",
     "text": [
      "[65 80 72 90 55 78]\n"
     ]
    }
   ],
   "source": [
    "scores=np.array([65,80,72,90,55,78])\n",
    "print(scores)"
   ]
  },
  {
   "cell_type": "code",
   "execution_count": 49,
   "id": "84952561",
   "metadata": {},
   "outputs": [
    {
     "name": "stdout",
     "output_type": "stream",
     "text": [
      "['fail' 'pass' 'fail' 'pass' 'fail' 'pass']\n"
     ]
    }
   ],
   "source": [
    "grades=np.where(scores>=75,'pass','fail')\n",
    "print(grades)"
   ]
  },
  {
   "cell_type": "code",
   "execution_count": 51,
   "id": "e59a3713",
   "metadata": {},
   "outputs": [
    {
     "name": "stdout",
     "output_type": "stream",
     "text": [
      "[ 1  2  3  4  5  6  7  8  9 10 11 12]\n"
     ]
    }
   ],
   "source": [
    "numbers_1d=np.arange(1,13)\n",
    "print(numbers_1d)"
   ]
  },
  {
   "cell_type": "code",
   "execution_count": 54,
   "id": "8223006e",
   "metadata": {},
   "outputs": [
    {
     "name": "stdout",
     "output_type": "stream",
     "text": [
      "[[ 1  2  3  4]\n",
      " [ 5  6  7  8]\n",
      " [ 9 10 11 12]]\n"
     ]
    }
   ],
   "source": [
    "numbers_2d=numbers_1d.reshape(3,4)\n",
    "print(numbers_2d)"
   ]
  },
  {
   "cell_type": "code",
   "execution_count": 55,
   "id": "0412882e",
   "metadata": {},
   "outputs": [
    {
     "data": {
      "text/plain": [
       "array([ 1,  2,  3,  4,  5,  6,  7,  8,  9, 10, 11, 12])"
      ]
     },
     "execution_count": 55,
     "metadata": {},
     "output_type": "execute_result"
    }
   ],
   "source": [
    "numbers_2d.flatten()"
   ]
  },
  {
   "cell_type": "code",
   "execution_count": 56,
   "id": "38f2bdb4",
   "metadata": {},
   "outputs": [
    {
     "name": "stdout",
     "output_type": "stream",
     "text": [
      "[ 1  2  3  4  5  6  7  8  9 10 11 12 13 14 15]\n"
     ]
    }
   ],
   "source": [
    "values=np.arange(1,16)\n",
    "print(values)"
   ]
  },
  {
   "cell_type": "code",
   "execution_count": 57,
   "id": "c09cff12",
   "metadata": {},
   "outputs": [
    {
     "data": {
      "text/plain": [
       "array([[ 1,  2,  3],\n",
       "       [ 4,  5,  6],\n",
       "       [ 7,  8,  9],\n",
       "       [10, 11, 12],\n",
       "       [13, 14, 15]])"
      ]
     },
     "execution_count": 57,
     "metadata": {},
     "output_type": "execute_result"
    }
   ],
   "source": [
    "values.reshape(5,-1)"
   ]
  },
  {
   "cell_type": "code",
   "execution_count": 58,
   "id": "68c51098",
   "metadata": {},
   "outputs": [
    {
     "name": "stdout",
     "output_type": "stream",
     "text": [
      "[10 20 30]\n"
     ]
    }
   ],
   "source": [
    "prices=np.array([10,20,30])\n",
    "print(prices)"
   ]
  },
  {
   "cell_type": "code",
   "execution_count": 59,
   "id": "976fb90c",
   "metadata": {},
   "outputs": [
    {
     "name": "stdout",
     "output_type": "stream",
     "text": [
      "[15 25 35]\n"
     ]
    }
   ],
   "source": [
    "print(prices+5)"
   ]
  },
  {
   "cell_type": "code",
   "execution_count": 60,
   "id": "2ff7155c",
   "metadata": {},
   "outputs": [
    {
     "name": "stdout",
     "output_type": "stream",
     "text": [
      "[[10 20]\n",
      " [15 25]\n",
      " [12 18]]\n"
     ]
    }
   ],
   "source": [
    "sales=np.array([[10,20],[15,25],[12,18]])\n",
    "print(sales)"
   ]
  },
  {
   "cell_type": "code",
   "execution_count": 63,
   "id": "61ac6d9e",
   "metadata": {},
   "outputs": [
    {
     "name": "stdout",
     "output_type": "stream",
     "text": [
      "[[2]\n",
      " [3]\n",
      " [1]]\n"
     ]
    }
   ],
   "source": [
    "bonuses=np.array([[2],[3],[1]])\n",
    "print(bonuses)"
   ]
  },
  {
   "cell_type": "code",
   "execution_count": 64,
   "id": "3bbd4f6d",
   "metadata": {},
   "outputs": [
    {
     "name": "stdout",
     "output_type": "stream",
     "text": [
      "[[12 22]\n",
      " [18 28]\n",
      " [13 19]]\n"
     ]
    }
   ],
   "source": [
    "print(sales+bonuses)"
   ]
  },
  {
   "cell_type": "code",
   "execution_count": 65,
   "id": "1a61950d",
   "metadata": {},
   "outputs": [
    {
     "name": "stdout",
     "output_type": "stream",
     "text": [
      "[0.1  0.05]\n"
     ]
    }
   ],
   "source": [
    "tax_rates=np.array([0.1,0.05])\n",
    "print(tax_rates)"
   ]
  },
  {
   "cell_type": "code",
   "execution_count": 66,
   "id": "da826b4e",
   "metadata": {},
   "outputs": [
    {
     "name": "stdout",
     "output_type": "stream",
     "text": [
      "[[1.   1.  ]\n",
      " [1.5  1.25]\n",
      " [1.2  0.9 ]]\n"
     ]
    }
   ],
   "source": [
    "print(sales*tax_rates)"
   ]
  },
  {
   "cell_type": "code",
   "execution_count": null,
   "id": "4fead618",
   "metadata": {},
   "outputs": [],
   "source": []
  }
 ],
 "metadata": {
  "kernelspec": {
   "display_name": "Python 3",
   "language": "python",
   "name": "python3"
  },
  "language_info": {
   "codemirror_mode": {
    "name": "ipython",
    "version": 3
   },
   "file_extension": ".py",
   "mimetype": "text/x-python",
   "name": "python",
   "nbconvert_exporter": "python",
   "pygments_lexer": "ipython3",
   "version": "3.13.4"
  }
 },
 "nbformat": 4,
 "nbformat_minor": 5
}
