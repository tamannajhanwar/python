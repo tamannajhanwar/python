{
 "cells": [
  {
   "cell_type": "code",
   "execution_count": 1,
   "id": "64d838a6",
   "metadata": {},
   "outputs": [],
   "source": [
    "import numpy as np"
   ]
  },
  {
   "cell_type": "code",
   "execution_count": 4,
   "id": "8c255582",
   "metadata": {},
   "outputs": [
    {
     "name": "stdout",
     "output_type": "stream",
     "text": [
      "[ 1  2  3  4  5  6  7  8  9 10]\n"
     ]
    }
   ],
   "source": [
    "a1=np.arange(1,11)\n",
    "print(a1)"
   ]
  },
  {
   "cell_type": "code",
   "execution_count": 5,
   "id": "8e7d9fa7",
   "metadata": {},
   "outputs": [
    {
     "name": "stdout",
     "output_type": "stream",
     "text": [
      "[[1 2 3]\n",
      " [4 5 6]\n",
      " [7 8 9]]\n"
     ]
    }
   ],
   "source": [
    "a2=np.array([[1,2,3],[4,5,6],[7,8,9]])\n",
    "print(a2)"
   ]
  },
  {
   "cell_type": "code",
   "execution_count": 6,
   "id": "570e6317",
   "metadata": {},
   "outputs": [
    {
     "name": "stdout",
     "output_type": "stream",
     "text": [
      "[21 22 23 24 25 26 27 28 29 30]\n"
     ]
    }
   ],
   "source": [
    "b1=np.arange(21,31)\n",
    "print(b1)"
   ]
  },
  {
   "cell_type": "code",
   "execution_count": 7,
   "id": "0b68ddf0",
   "metadata": {},
   "outputs": [
    {
     "name": "stdout",
     "output_type": "stream",
     "text": [
      "[[11 12 13]\n",
      " [14 15 16]\n",
      " [17 18 19]]\n"
     ]
    }
   ],
   "source": [
    "b2=np.array([[11,12,13],[14,15,16],[17,18,19]])\n",
    "print(b2)"
   ]
  },
  {
   "cell_type": "code",
   "execution_count": 8,
   "id": "f0f8ca1d",
   "metadata": {},
   "outputs": [
    {
     "name": "stdout",
     "output_type": "stream",
     "text": [
      "[ 1  2  3  4  5  6  7  8  9 10 21 22 23 24 25 26 27 28 29 30]\n"
     ]
    }
   ],
   "source": [
    "print(np.concatenate((a1,b1)))"
   ]
  },
  {
   "cell_type": "code",
   "execution_count": 9,
   "id": "87a6cec8",
   "metadata": {},
   "outputs": [
    {
     "name": "stdout",
     "output_type": "stream",
     "text": [
      "[[ 1  2  3]\n",
      " [ 4  5  6]\n",
      " [ 7  8  9]\n",
      " [11 12 13]\n",
      " [14 15 16]\n",
      " [17 18 19]]\n"
     ]
    }
   ],
   "source": [
    "print(np.vstack((a2,b2)))"
   ]
  },
  {
   "cell_type": "code",
   "execution_count": 10,
   "id": "5b44f928",
   "metadata": {},
   "outputs": [
    {
     "name": "stdout",
     "output_type": "stream",
     "text": [
      "[[ 1  2  3 11 12 13]\n",
      " [ 4  5  6 14 15 16]\n",
      " [ 7  8  9 17 18 19]]\n"
     ]
    }
   ],
   "source": [
    "print(np.hstack((a2,b2)))"
   ]
  },
  {
   "cell_type": "code",
   "execution_count": 11,
   "id": "54c26f12",
   "metadata": {},
   "outputs": [
    {
     "name": "stdout",
     "output_type": "stream",
     "text": [
      "[1 2 3 4 5 6 7 8 9]\n"
     ]
    }
   ],
   "source": [
    "print(a2.flatten())"
   ]
  },
  {
   "cell_type": "code",
   "execution_count": 12,
   "id": "e13d649a",
   "metadata": {},
   "outputs": [
    {
     "name": "stdout",
     "output_type": "stream",
     "text": [
      "[11 12 13 14 15 16 17 18 19]\n"
     ]
    }
   ],
   "source": [
    "print(b2.flatten())"
   ]
  },
  {
   "cell_type": "code",
   "execution_count": 13,
   "id": "149b19b1",
   "metadata": {},
   "outputs": [
    {
     "name": "stdout",
     "output_type": "stream",
     "text": [
      "[1 2 3 4 5 6 7 8 9]\n"
     ]
    }
   ],
   "source": [
    "print(a2.ravel())"
   ]
  },
  {
   "cell_type": "code",
   "execution_count": 14,
   "id": "d1c0b9e2",
   "metadata": {},
   "outputs": [
    {
     "name": "stdout",
     "output_type": "stream",
     "text": [
      "[11 12 13 14 15 16 17 18 19]\n"
     ]
    }
   ],
   "source": [
    "print(b2.ravel())"
   ]
  },
  {
   "cell_type": "code",
   "execution_count": 15,
   "id": "d679c1bb",
   "metadata": {},
   "outputs": [
    {
     "name": "stdout",
     "output_type": "stream",
     "text": [
      "[1 2 3 4 5 6 7 8 9]\n"
     ]
    }
   ],
   "source": [
    "print(a2.reshape(9))"
   ]
  },
  {
   "cell_type": "code",
   "execution_count": 16,
   "id": "18cbd93e",
   "metadata": {},
   "outputs": [
    {
     "name": "stdout",
     "output_type": "stream",
     "text": [
      "[11 12 13 14 15 16 17 18 19]\n"
     ]
    }
   ],
   "source": [
    "print(b2.reshape(9))"
   ]
  },
  {
   "cell_type": "code",
   "execution_count": 20,
   "id": "5828721f",
   "metadata": {},
   "outputs": [
    {
     "name": "stdout",
     "output_type": "stream",
     "text": [
      "[ 1  2  3  4  5  6  7  8  9 10]\n",
      "[21 22 23 24 25 26 27 28 29 30]\n",
      "[[1 2 3]\n",
      " [4 5 6]\n",
      " [7 8 9]]\n",
      "[[11 12 13]\n",
      " [14 15 16]\n",
      " [17 18 19]]\n"
     ]
    }
   ],
   "source": [
    "print(a1)\n",
    "print(b1)\n",
    "print(a2)\n",
    "print(b2)"
   ]
  },
  {
   "cell_type": "code",
   "execution_count": 21,
   "id": "a2f40c0b",
   "metadata": {},
   "outputs": [
    {
     "name": "stdout",
     "output_type": "stream",
     "text": [
      "[array([1, 2, 3, 4, 5]), array([ 6,  7,  8,  9, 10])]\n"
     ]
    }
   ],
   "source": [
    "print(np.split(a1,2))"
   ]
  },
  {
   "cell_type": "code",
   "execution_count": 33,
   "id": "cb9dd333",
   "metadata": {},
   "outputs": [
    {
     "name": "stdout",
     "output_type": "stream",
     "text": [
      "[array([[1],\n",
      "       [4],\n",
      "       [7]]), array([[2],\n",
      "       [5],\n",
      "       [8]]), array([[3],\n",
      "       [6],\n",
      "       [9]])]\n"
     ]
    }
   ],
   "source": [
    "print(np.hsplit(a2,3))"
   ]
  },
  {
   "cell_type": "code",
   "execution_count": 45,
   "id": "c001a63f",
   "metadata": {},
   "outputs": [
    {
     "name": "stdout",
     "output_type": "stream",
     "text": [
      "[array([[1, 2, 3]]), array([[4, 5, 6]]), array([[7, 8, 9]])]\n"
     ]
    }
   ],
   "source": [
    "print(np.vsplit(a2,3))"
   ]
  },
  {
   "cell_type": "code",
   "execution_count": 49,
   "id": "9d7a1284",
   "metadata": {},
   "outputs": [
    {
     "name": "stdout",
     "output_type": "stream",
     "text": [
      "[1 2 3 4 1 2 5 6 8 2 8 1]\n"
     ]
    }
   ],
   "source": [
    "c1=np.array([1,2,3,4,1,2,5,6,8,2,8,1])\n",
    "print(c1)"
   ]
  },
  {
   "cell_type": "code",
   "execution_count": 50,
   "id": "7c45b20e",
   "metadata": {},
   "outputs": [
    {
     "name": "stdout",
     "output_type": "stream",
     "text": [
      "(array([ 0,  4, 11]),)\n"
     ]
    }
   ],
   "source": [
    "print(np.where(c1==1))"
   ]
  },
  {
   "cell_type": "code",
   "execution_count": 51,
   "id": "93fe9554",
   "metadata": {},
   "outputs": [
    {
     "name": "stdout",
     "output_type": "stream",
     "text": [
      "[[1 4 2]\n",
      " [2 5 4]\n",
      " [1 4 7]]\n"
     ]
    }
   ],
   "source": [
    "c2=np.array([[1,4,2],[2,5,4],[1,4,7]])\n",
    "print(c2)"
   ]
  },
  {
   "cell_type": "code",
   "execution_count": 52,
   "id": "3fd4d1d9",
   "metadata": {},
   "outputs": [
    {
     "name": "stdout",
     "output_type": "stream",
     "text": [
      "(array([0, 1, 2]), array([1, 2, 1]))\n"
     ]
    }
   ],
   "source": [
    "print(np.where(c2==4))"
   ]
  },
  {
   "cell_type": "code",
   "execution_count": 53,
   "id": "a8b4d968",
   "metadata": {},
   "outputs": [
    {
     "name": "stdout",
     "output_type": "stream",
     "text": [
      "(array([2]), array([2]))\n"
     ]
    }
   ],
   "source": [
    "print(np.where(c2==7))"
   ]
  },
  {
   "cell_type": "code",
   "execution_count": 54,
   "id": "580ebad0",
   "metadata": {},
   "outputs": [
    {
     "name": "stdout",
     "output_type": "stream",
     "text": [
      "[1 1 1 2 2 2 3 4 5 6 8 8]\n"
     ]
    }
   ],
   "source": [
    "print(np.sort(c1))"
   ]
  },
  {
   "cell_type": "code",
   "execution_count": 55,
   "id": "0d3e1632",
   "metadata": {},
   "outputs": [
    {
     "name": "stdout",
     "output_type": "stream",
     "text": [
      "[[1 2 4]\n",
      " [2 4 5]\n",
      " [1 4 7]]\n"
     ]
    }
   ],
   "source": [
    "print(np.sort(c2))"
   ]
  },
  {
   "cell_type": "code",
   "execution_count": 64,
   "id": "ccc1c927",
   "metadata": {},
   "outputs": [
    {
     "name": "stdout",
     "output_type": "stream",
     "text": [
      "[[1 4 2]\n",
      " [1 4 4]\n",
      " [2 5 7]]\n"
     ]
    }
   ],
   "source": [
    "print(np.sort(c2,axis=0))"
   ]
  },
  {
   "cell_type": "code",
   "execution_count": 66,
   "id": "d7082040",
   "metadata": {},
   "outputs": [
    {
     "name": "stdout",
     "output_type": "stream",
     "text": [
      "[[1 2 4]\n",
      " [2 4 5]\n",
      " [1 4 7]]\n"
     ]
    }
   ],
   "source": [
    "print(np.sort(c2,axis=1))"
   ]
  },
  {
   "cell_type": "code",
   "execution_count": 69,
   "id": "a8882c2d",
   "metadata": {},
   "outputs": [
    {
     "name": "stdout",
     "output_type": "stream",
     "text": [
      "[8 8 6 5 4 3 2 2 2 1 1 1]\n"
     ]
    }
   ],
   "source": [
    "print(np.sort(c1)[::-1])"
   ]
  },
  {
   "cell_type": "code",
   "execution_count": 71,
   "id": "74bd11f3",
   "metadata": {},
   "outputs": [
    {
     "name": "stdout",
     "output_type": "stream",
     "text": [
      "[[1 4 2]\n",
      " [2 5 4]\n",
      " [1 4 7]]\n"
     ]
    }
   ],
   "source": [
    "print(c2)"
   ]
  },
  {
   "cell_type": "code",
   "execution_count": 74,
   "id": "b560ddc9",
   "metadata": {},
   "outputs": [
    {
     "name": "stdout",
     "output_type": "stream",
     "text": [
      "[[2 5 7]\n",
      " [1 4 4]\n",
      " [1 4 2]]\n"
     ]
    }
   ],
   "source": [
    "print(np.sort(c2,axis=0)[::-1])"
   ]
  },
  {
   "cell_type": "code",
   "execution_count": 78,
   "id": "5e893e09",
   "metadata": {},
   "outputs": [
    {
     "name": "stdout",
     "output_type": "stream",
     "text": [
      "[[1 4 7]\n",
      " [2 4 5]\n",
      " [1 2 4]]\n"
     ]
    }
   ],
   "source": [
    "print(np.sort(c2,axis=1)[::-1])"
   ]
  },
  {
   "cell_type": "code",
   "execution_count": 79,
   "id": "b6ae0d3a",
   "metadata": {},
   "outputs": [
    {
     "name": "stdout",
     "output_type": "stream",
     "text": [
      "43\n",
      "30\n"
     ]
    }
   ],
   "source": [
    "print(np.sum(c1))\n",
    "print(np.sum(c2))"
   ]
  },
  {
   "cell_type": "code",
   "execution_count": 81,
   "id": "29734908",
   "metadata": {},
   "outputs": [
    {
     "name": "stdout",
     "output_type": "stream",
     "text": [
      "3.5833333333333335\n",
      "3.3333333333333335\n"
     ]
    }
   ],
   "source": [
    "print(np.mean(c1))\n",
    "print(np.mean(c2))"
   ]
  },
  {
   "cell_type": "code",
   "execution_count": 82,
   "id": "1ffc28be",
   "metadata": {},
   "outputs": [
    {
     "name": "stdout",
     "output_type": "stream",
     "text": [
      "2.5\n",
      "4.0\n"
     ]
    }
   ],
   "source": [
    "print(np.median(c1))\n",
    "print(np.median(c2))"
   ]
  },
  {
   "cell_type": "code",
   "execution_count": 84,
   "id": "007010e0",
   "metadata": {},
   "outputs": [
    {
     "name": "stdout",
     "output_type": "stream",
     "text": [
      "8\n",
      "7\n"
     ]
    }
   ],
   "source": [
    "print(np.max(c1))\n",
    "print(np.max(c2))"
   ]
  },
  {
   "cell_type": "code",
   "execution_count": 85,
   "id": "67402a88",
   "metadata": {},
   "outputs": [
    {
     "name": "stdout",
     "output_type": "stream",
     "text": [
      "1\n",
      "1\n"
     ]
    }
   ],
   "source": [
    "print(np.min(c1))\n",
    "print(np.min(c2))"
   ]
  },
  {
   "cell_type": "code",
   "execution_count": 86,
   "id": "2aedc57e",
   "metadata": {},
   "outputs": [
    {
     "name": "stdout",
     "output_type": "stream",
     "text": [
      "2.4986107250941583\n",
      "1.8856180831641267\n"
     ]
    }
   ],
   "source": [
    "print(np.std(c1))\n",
    "print(np.std(c2))"
   ]
  },
  {
   "cell_type": "code",
   "execution_count": 87,
   "id": "a55bdf36",
   "metadata": {},
   "outputs": [
    {
     "name": "stdout",
     "output_type": "stream",
     "text": [
      "6.2430555555555545\n",
      "3.5555555555555554\n"
     ]
    }
   ],
   "source": [
    "print(np.var(c1))\n",
    "print(np.var(c2))"
   ]
  },
  {
   "cell_type": "code",
   "execution_count": 88,
   "id": "b53a0ab8",
   "metadata": {},
   "outputs": [
    {
     "name": "stdout",
     "output_type": "stream",
     "text": [
      "[[1 4 2]\n",
      " [2 5 4]\n",
      " [1 4 7]]\n"
     ]
    }
   ],
   "source": [
    "print(c2)"
   ]
  },
  {
   "cell_type": "code",
   "execution_count": 89,
   "id": "ff1cfb15",
   "metadata": {},
   "outputs": [
    {
     "name": "stdout",
     "output_type": "stream",
     "text": [
      "[ 7 11 12]\n",
      "[ 4 13 13]\n"
     ]
    }
   ],
   "source": [
    "print(np.sum(c2,axis=1))\n",
    "print(np.sum(c2,axis=0))"
   ]
  },
  {
   "cell_type": "code",
   "execution_count": 90,
   "id": "854a7bbe",
   "metadata": {},
   "outputs": [
    {
     "name": "stdout",
     "output_type": "stream",
     "text": [
      "[2.33333333 3.66666667 4.        ]\n",
      "[1.33333333 4.33333333 4.33333333]\n"
     ]
    }
   ],
   "source": [
    "print(np.mean(c2,axis=1))\n",
    "print(np.mean(c2,axis=0))"
   ]
  },
  {
   "cell_type": "code",
   "execution_count": 91,
   "id": "f286cd8a",
   "metadata": {},
   "outputs": [
    {
     "name": "stdout",
     "output_type": "stream",
     "text": [
      "[2. 4. 4.]\n",
      "[1. 4. 4.]\n"
     ]
    }
   ],
   "source": [
    "print(np.median(c2,axis=1))\n",
    "print(np.median(c2,axis=0))"
   ]
  },
  {
   "cell_type": "code",
   "execution_count": 92,
   "id": "59c69ed4",
   "metadata": {},
   "outputs": [
    {
     "name": "stdout",
     "output_type": "stream",
     "text": [
      "[4 5 7]\n",
      "[2 5 7]\n"
     ]
    }
   ],
   "source": [
    "print(np.max(c2,axis=1))\n",
    "print(np.max(c2,axis=0))"
   ]
  },
  {
   "cell_type": "code",
   "execution_count": 93,
   "id": "2667e7c1",
   "metadata": {},
   "outputs": [
    {
     "name": "stdout",
     "output_type": "stream",
     "text": [
      "[1 2 1]\n",
      "[1 4 2]\n"
     ]
    }
   ],
   "source": [
    "print(np.min(c2,axis=1))\n",
    "print(np.min(c2,axis=0))"
   ]
  },
  {
   "cell_type": "code",
   "execution_count": 94,
   "id": "b8f7dfc8",
   "metadata": {},
   "outputs": [
    {
     "name": "stdout",
     "output_type": "stream",
     "text": [
      "[1.24721913 1.24721913 2.44948974]\n",
      "[0.47140452 0.47140452 2.05480467]\n"
     ]
    }
   ],
   "source": [
    "print(np.std(c2,axis=1))\n",
    "print(np.std(c2,axis=0))"
   ]
  },
  {
   "cell_type": "code",
   "execution_count": 95,
   "id": "23631e90",
   "metadata": {},
   "outputs": [
    {
     "name": "stdout",
     "output_type": "stream",
     "text": [
      "[1.55555556 1.55555556 6.        ]\n",
      "[0.22222222 0.22222222 4.22222222]\n"
     ]
    }
   ],
   "source": [
    "print(np.var(c2,axis=1))\n",
    "print(np.var(c2,axis=0))"
   ]
  }
 ],
 "metadata": {
  "kernelspec": {
   "display_name": "Python 3",
   "language": "python",
   "name": "python3"
  },
  "language_info": {
   "codemirror_mode": {
    "name": "ipython",
    "version": 3
   },
   "file_extension": ".py",
   "mimetype": "text/x-python",
   "name": "python",
   "nbconvert_exporter": "python",
   "pygments_lexer": "ipython3",
   "version": "3.13.4"
  }
 },
 "nbformat": 4,
 "nbformat_minor": 5
}
